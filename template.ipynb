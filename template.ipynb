{
 "cells": [
  {
   "cell_type": "markdown",
   "metadata": {},
   "source": [
    "# Your Title Here\n",
    "\n",
    "**Name(s)**: (your name(s) here)\n",
    "\n",
    "**Website Link**: (your website link)"
   ]
  },
  {
   "cell_type": "code",
   "execution_count": 1,
   "metadata": {
    "ExecuteTime": {
     "end_time": "2019-10-31T23:36:28.652554Z",
     "start_time": "2019-10-31T23:36:27.180520Z"
    }
   },
   "outputs": [],
   "source": [
    "import pandas as pd\n",
    "import numpy as np\n",
    "from pathlib import Path\n",
    "\n",
    "import plotly.express as px\n",
    "pd.options.plotting.backend = 'plotly'\n",
    "\n",
    "from dsc80_utils import * # Feel free to uncomment and use this."
   ]
  },
  {
   "cell_type": "markdown",
   "metadata": {},
   "source": [
    "## Step 1: Introduction"
   ]
  },
  {
   "cell_type": "code",
   "execution_count": 8,
   "metadata": {},
   "outputs": [
    {
     "data": {
      "text/html": [
       "<div>\n",
       "<style scoped>\n",
       "    .dataframe tbody tr th:only-of-type {\n",
       "        vertical-align: middle;\n",
       "    }\n",
       "\n",
       "    .dataframe tbody tr th {\n",
       "        vertical-align: top;\n",
       "    }\n",
       "\n",
       "    .dataframe thead th {\n",
       "        text-align: right;\n",
       "    }\n",
       "</style>\n",
       "<table border=\"1\" class=\"dataframe\">\n",
       "  <thead>\n",
       "    <tr style=\"text-align: right;\">\n",
       "      <th></th>\n",
       "      <th>user_id</th>\n",
       "      <th>recipe_id</th>\n",
       "      <th>date</th>\n",
       "      <th>rating</th>\n",
       "      <th>review</th>\n",
       "    </tr>\n",
       "  </thead>\n",
       "  <tbody>\n",
       "    <tr>\n",
       "      <th>0</th>\n",
       "      <td>1293707</td>\n",
       "      <td>40893</td>\n",
       "      <td>2011-12-21</td>\n",
       "      <td>5</td>\n",
       "      <td>So simple, so delicious! Great for chilly fall...</td>\n",
       "    </tr>\n",
       "    <tr>\n",
       "      <th>1</th>\n",
       "      <td>126440</td>\n",
       "      <td>85009</td>\n",
       "      <td>2010-02-27</td>\n",
       "      <td>5</td>\n",
       "      <td>I made the Mexican topping and took it to bunk...</td>\n",
       "    </tr>\n",
       "    <tr>\n",
       "      <th>2</th>\n",
       "      <td>57222</td>\n",
       "      <td>85009</td>\n",
       "      <td>2011-10-01</td>\n",
       "      <td>5</td>\n",
       "      <td>Made the cheddar bacon topping, adding a sprin...</td>\n",
       "    </tr>\n",
       "    <tr>\n",
       "      <th>...</th>\n",
       "      <td>...</td>\n",
       "      <td>...</td>\n",
       "      <td>...</td>\n",
       "      <td>...</td>\n",
       "      <td>...</td>\n",
       "    </tr>\n",
       "    <tr>\n",
       "      <th>731924</th>\n",
       "      <td>157126</td>\n",
       "      <td>78003</td>\n",
       "      <td>2008-06-23</td>\n",
       "      <td>5</td>\n",
       "      <td>WOW!  Sometimes I don't take the time to rate ...</td>\n",
       "    </tr>\n",
       "    <tr>\n",
       "      <th>731925</th>\n",
       "      <td>53932</td>\n",
       "      <td>78003</td>\n",
       "      <td>2009-01-11</td>\n",
       "      <td>4</td>\n",
       "      <td>Very good!  I used regular port as well.  The ...</td>\n",
       "    </tr>\n",
       "    <tr>\n",
       "      <th>731926</th>\n",
       "      <td>2001868099</td>\n",
       "      <td>78003</td>\n",
       "      <td>2017-12-18</td>\n",
       "      <td>5</td>\n",
       "      <td>I am so glad I googled and found this here. Th...</td>\n",
       "    </tr>\n",
       "  </tbody>\n",
       "</table>\n",
       "<p>731927 rows × 5 columns</p>\n",
       "</div>"
      ],
      "text/plain": [
       "           user_id  recipe_id        date  rating  \\\n",
       "0          1293707      40893  2011-12-21       5   \n",
       "1           126440      85009  2010-02-27       5   \n",
       "2            57222      85009  2011-10-01       5   \n",
       "...            ...        ...         ...     ...   \n",
       "731924      157126      78003  2008-06-23       5   \n",
       "731925       53932      78003  2009-01-11       4   \n",
       "731926  2001868099      78003  2017-12-18       5   \n",
       "\n",
       "                                                   review  \n",
       "0       So simple, so delicious! Great for chilly fall...  \n",
       "1       I made the Mexican topping and took it to bunk...  \n",
       "2       Made the cheddar bacon topping, adding a sprin...  \n",
       "...                                                   ...  \n",
       "731924  WOW!  Sometimes I don't take the time to rate ...  \n",
       "731925  Very good!  I used regular port as well.  The ...  \n",
       "731926  I am so glad I googled and found this here. Th...  \n",
       "\n",
       "[731927 rows x 5 columns]"
      ]
     },
     "execution_count": 8,
     "metadata": {},
     "output_type": "execute_result"
    }
   ],
   "source": [
    "data = Path('data') / 'RAW_interactions.csv'\n",
    "pd.read_csv(data)"
   ]
  },
  {
   "cell_type": "code",
   "execution_count": 9,
   "metadata": {},
   "outputs": [
    {
     "data": {
      "text/html": [
       "<div>\n",
       "<style scoped>\n",
       "    .dataframe tbody tr th:only-of-type {\n",
       "        vertical-align: middle;\n",
       "    }\n",
       "\n",
       "    .dataframe tbody tr th {\n",
       "        vertical-align: top;\n",
       "    }\n",
       "\n",
       "    .dataframe thead th {\n",
       "        text-align: right;\n",
       "    }\n",
       "</style>\n",
       "<table border=\"1\" class=\"dataframe\">\n",
       "  <thead>\n",
       "    <tr style=\"text-align: right;\">\n",
       "      <th></th>\n",
       "      <th>name</th>\n",
       "      <th>id</th>\n",
       "      <th>minutes</th>\n",
       "      <th>contributor_id</th>\n",
       "      <th>...</th>\n",
       "      <th>steps</th>\n",
       "      <th>description</th>\n",
       "      <th>ingredients</th>\n",
       "      <th>n_ingredients</th>\n",
       "    </tr>\n",
       "  </thead>\n",
       "  <tbody>\n",
       "    <tr>\n",
       "      <th>0</th>\n",
       "      <td>1 brownies in the world    best ever</td>\n",
       "      <td>333281</td>\n",
       "      <td>40</td>\n",
       "      <td>985201</td>\n",
       "      <td>...</td>\n",
       "      <td>['heat the oven to 350f and arrange the rack i...</td>\n",
       "      <td>these are the most; chocolatey, moist, rich, d...</td>\n",
       "      <td>['bittersweet chocolate', 'unsalted butter', '...</td>\n",
       "      <td>9</td>\n",
       "    </tr>\n",
       "    <tr>\n",
       "      <th>1</th>\n",
       "      <td>1 in canada chocolate chip cookies</td>\n",
       "      <td>453467</td>\n",
       "      <td>45</td>\n",
       "      <td>1848091</td>\n",
       "      <td>...</td>\n",
       "      <td>['pre-heat oven the 350 degrees f', 'in a mixi...</td>\n",
       "      <td>this is the recipe that we use at my school ca...</td>\n",
       "      <td>['white sugar', 'brown sugar', 'salt', 'margar...</td>\n",
       "      <td>11</td>\n",
       "    </tr>\n",
       "    <tr>\n",
       "      <th>2</th>\n",
       "      <td>412 broccoli casserole</td>\n",
       "      <td>306168</td>\n",
       "      <td>40</td>\n",
       "      <td>50969</td>\n",
       "      <td>...</td>\n",
       "      <td>['preheat oven to 350 degrees', 'spray a 2 qua...</td>\n",
       "      <td>since there are already 411 recipes for brocco...</td>\n",
       "      <td>['frozen broccoli cuts', 'cream of chicken sou...</td>\n",
       "      <td>9</td>\n",
       "    </tr>\n",
       "    <tr>\n",
       "      <th>...</th>\n",
       "      <td>...</td>\n",
       "      <td>...</td>\n",
       "      <td>...</td>\n",
       "      <td>...</td>\n",
       "      <td>...</td>\n",
       "      <td>...</td>\n",
       "      <td>...</td>\n",
       "      <td>...</td>\n",
       "      <td>...</td>\n",
       "    </tr>\n",
       "    <tr>\n",
       "      <th>83779</th>\n",
       "      <td>zydeco ya ya deviled eggs</td>\n",
       "      <td>308080</td>\n",
       "      <td>40</td>\n",
       "      <td>37779</td>\n",
       "      <td>...</td>\n",
       "      <td>['in a bowl , combine the mashed yolks and may...</td>\n",
       "      <td>deviled eggs, cajun-style</td>\n",
       "      <td>['hard-cooked eggs', 'mayonnaise', 'dijon must...</td>\n",
       "      <td>8</td>\n",
       "    </tr>\n",
       "    <tr>\n",
       "      <th>83780</th>\n",
       "      <td>cookies by design   cookies on a stick</td>\n",
       "      <td>298512</td>\n",
       "      <td>29</td>\n",
       "      <td>506822</td>\n",
       "      <td>...</td>\n",
       "      <td>['place melted butter in a large mixing bowl a...</td>\n",
       "      <td>i've heard of the 'cookies by design' company,...</td>\n",
       "      <td>['butter', 'eagle brand condensed milk', 'ligh...</td>\n",
       "      <td>10</td>\n",
       "    </tr>\n",
       "    <tr>\n",
       "      <th>83781</th>\n",
       "      <td>cookies by design   sugar shortbread cookies</td>\n",
       "      <td>298509</td>\n",
       "      <td>20</td>\n",
       "      <td>506822</td>\n",
       "      <td>...</td>\n",
       "      <td>['whip sugar and shortening in a large bowl , ...</td>\n",
       "      <td>i've heard of the 'cookies by design' company,...</td>\n",
       "      <td>['granulated sugar', 'shortening', 'eggs', 'fl...</td>\n",
       "      <td>7</td>\n",
       "    </tr>\n",
       "  </tbody>\n",
       "</table>\n",
       "<p>83782 rows × 12 columns</p>\n",
       "</div>"
      ],
      "text/plain": [
       "                                               name      id  minutes  \\\n",
       "0              1 brownies in the world    best ever  333281       40   \n",
       "1                1 in canada chocolate chip cookies  453467       45   \n",
       "2                            412 broccoli casserole  306168       40   \n",
       "...                                             ...     ...      ...   \n",
       "83779                     zydeco ya ya deviled eggs  308080       40   \n",
       "83780        cookies by design   cookies on a stick  298512       29   \n",
       "83781  cookies by design   sugar shortbread cookies  298509       20   \n",
       "\n",
       "       contributor_id  ...                                              steps  \\\n",
       "0              985201  ...  ['heat the oven to 350f and arrange the rack i...   \n",
       "1             1848091  ...  ['pre-heat oven the 350 degrees f', 'in a mixi...   \n",
       "2               50969  ...  ['preheat oven to 350 degrees', 'spray a 2 qua...   \n",
       "...               ...  ...                                                ...   \n",
       "83779           37779  ...  ['in a bowl , combine the mashed yolks and may...   \n",
       "83780          506822  ...  ['place melted butter in a large mixing bowl a...   \n",
       "83781          506822  ...  ['whip sugar and shortening in a large bowl , ...   \n",
       "\n",
       "                                             description  \\\n",
       "0      these are the most; chocolatey, moist, rich, d...   \n",
       "1      this is the recipe that we use at my school ca...   \n",
       "2      since there are already 411 recipes for brocco...   \n",
       "...                                                  ...   \n",
       "83779                          deviled eggs, cajun-style   \n",
       "83780  i've heard of the 'cookies by design' company,...   \n",
       "83781  i've heard of the 'cookies by design' company,...   \n",
       "\n",
       "                                             ingredients  n_ingredients  \n",
       "0      ['bittersweet chocolate', 'unsalted butter', '...              9  \n",
       "1      ['white sugar', 'brown sugar', 'salt', 'margar...             11  \n",
       "2      ['frozen broccoli cuts', 'cream of chicken sou...              9  \n",
       "...                                                  ...            ...  \n",
       "83779  ['hard-cooked eggs', 'mayonnaise', 'dijon must...              8  \n",
       "83780  ['butter', 'eagle brand condensed milk', 'ligh...             10  \n",
       "83781  ['granulated sugar', 'shortening', 'eggs', 'fl...              7  \n",
       "\n",
       "[83782 rows x 12 columns]"
      ]
     },
     "execution_count": 9,
     "metadata": {},
     "output_type": "execute_result"
    }
   ],
   "source": [
    "data = Path('data') / 'RAW_recipes.csv'\n",
    "pd.read_csv(data)"
   ]
  },
  {
   "cell_type": "markdown",
   "metadata": {},
   "source": [
    "## Step 2: Data Cleaning and Exploratory Data Analysis"
   ]
  },
  {
   "cell_type": "code",
   "execution_count": null,
   "metadata": {
    "ExecuteTime": {
     "end_time": "2019-10-31T23:36:28.657068Z",
     "start_time": "2019-10-31T23:36:28.654650Z"
    }
   },
   "outputs": [],
   "source": [
    "# TODO"
   ]
  },
  {
   "cell_type": "markdown",
   "metadata": {},
   "source": [
    "## Step 3: Assessment of Missingness"
   ]
  },
  {
   "cell_type": "code",
   "execution_count": null,
   "metadata": {
    "ExecuteTime": {
     "end_time": "2019-10-31T23:36:28.662099Z",
     "start_time": "2019-10-31T23:36:28.660016Z"
    }
   },
   "outputs": [],
   "source": [
    "# TODO"
   ]
  },
  {
   "cell_type": "markdown",
   "metadata": {},
   "source": [
    "## Step 4: Hypothesis Testing"
   ]
  },
  {
   "cell_type": "code",
   "execution_count": null,
   "metadata": {
    "ExecuteTime": {
     "end_time": "2019-10-31T23:36:28.666489Z",
     "start_time": "2019-10-31T23:36:28.664381Z"
    }
   },
   "outputs": [],
   "source": [
    "# TODO"
   ]
  },
  {
   "cell_type": "markdown",
   "metadata": {},
   "source": [
    "## Step 5: Framing a Prediction Problem"
   ]
  },
  {
   "cell_type": "code",
   "execution_count": null,
   "metadata": {
    "ExecuteTime": {
     "end_time": "2019-10-31T23:36:28.657068Z",
     "start_time": "2019-10-31T23:36:28.654650Z"
    }
   },
   "outputs": [],
   "source": [
    "# TODO"
   ]
  },
  {
   "cell_type": "markdown",
   "metadata": {},
   "source": [
    "## Step 6: Baseline Model"
   ]
  },
  {
   "cell_type": "code",
   "execution_count": null,
   "metadata": {
    "ExecuteTime": {
     "end_time": "2019-10-31T23:36:28.662099Z",
     "start_time": "2019-10-31T23:36:28.660016Z"
    }
   },
   "outputs": [],
   "source": [
    "# TODO"
   ]
  },
  {
   "cell_type": "markdown",
   "metadata": {},
   "source": [
    "## Step 7: Final Model"
   ]
  },
  {
   "cell_type": "code",
   "execution_count": null,
   "metadata": {
    "ExecuteTime": {
     "end_time": "2019-10-31T23:36:28.662099Z",
     "start_time": "2019-10-31T23:36:28.660016Z"
    }
   },
   "outputs": [],
   "source": [
    "# TODO"
   ]
  },
  {
   "cell_type": "markdown",
   "metadata": {},
   "source": [
    "## Step 8: Fairness Analysis"
   ]
  },
  {
   "cell_type": "code",
   "execution_count": null,
   "metadata": {
    "ExecuteTime": {
     "end_time": "2019-10-31T23:36:28.666489Z",
     "start_time": "2019-10-31T23:36:28.664381Z"
    }
   },
   "outputs": [],
   "source": [
    "# TODO"
   ]
  }
 ],
 "metadata": {
  "kernelspec": {
   "display_name": "Python 3 (ipykernel)",
   "language": "python",
   "name": "python3"
  },
  "language_info": {
   "codemirror_mode": {
    "name": "ipython",
    "version": 3
   },
   "file_extension": ".py",
   "mimetype": "text/x-python",
   "name": "python",
   "nbconvert_exporter": "python",
   "pygments_lexer": "ipython3",
   "version": "3.12.6"
  }
 },
 "nbformat": 4,
 "nbformat_minor": 4
}
